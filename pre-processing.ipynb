{
 "cells": [
  {
   "cell_type": "markdown",
   "metadata": {},
   "source": [
    "# Pre-processing of SDQ items in each MCS sweep"
   ]
  },
  {
   "cell_type": "markdown",
   "metadata": {},
   "source": [
    "pre-processing include 1) extract variables 2) investigate if any missing data 3)remove outliers (in this case, no outliers as we are dealing with categorical data) 4) examine differences across sweeps"
   ]
  },
  {
   "cell_type": "code",
   "execution_count": null,
   "metadata": {},
   "outputs": [],
   "source": [
    "import numpy as np\n",
    "import pandas as pd\n",
    "import matplotlib.pyplot as plt\n",
    "import seaborn as sns\n",
    "sns.set()\n",
    "\n",
    "# display all columns in dataframe\n",
    "pd.set_option('display.max_columns', None)\n",
    "pd.set_option('display.max_rows', None)\n"
   ]
  },
  {
   "cell_type": "code",
   "execution_count": 2,
   "metadata": {},
   "outputs": [],
   "source": [
    "# load data \n",
    "df_SDQ = pd.read_csv('mcs3_parent.csv',encoding='mac_roman')\n",
    "df_SDQ.shape"
   ]
  },
  {
   "cell_type": "code",
   "execution_count": null,
   "metadata": {},
   "outputs": [],
   "source": [
    "# only keep 1st cohort member and main interview\n",
    "df_SDQ = df_SDQ.loc[df_SDQ['EPNUM00'] ==1]# only main interview\n",
    "df_SDQ = df_SDQ.loc[df_SDQ['ECNUM00'] =='1st Cohort Member of the family'] # only CM"
   ]
  },
  {
   "cell_type": "code",
   "execution_count": null,
   "metadata": {},
   "outputs": [],
   "source": [
    "# extract variables of interest \n",
    "df_SDQ = df_SDQ[['MCSID','column1','column2' etc ]]\n",
    "# rename columns \n",
    "df_SDQ.columns = ['MCSID', 'bully','friend','nervous', etc]\n",
    "df_SDQ.head()"
   ]
  },
  {
   "cell_type": "code",
   "execution_count": null,
   "metadata": {},
   "outputs": [],
   "source": [
    "# explore values per variable: \n",
    "df_SDQ['worry'].value_counts()"
   ]
  },
  {
   "cell_type": "code",
   "execution_count": 27,
   "metadata": {},
   "outputs": [],
   "source": [
    "# replace invalid values by NaN: \n",
    "df_SDQ = df_SDQ.replace(['Not applicable'],np.NaN) \n",
    "df_SDQ = df_SDQ.replace(['Can t say'],np.NaN)\n",
    "df_SDQ = df_SDQ.replace([\"Don't Know\"],np.NaN)"
   ]
  },
  {
   "cell_type": "markdown",
   "metadata": {},
   "source": [
    "## check amount of missing values"
   ]
  },
  {
   "cell_type": "code",
   "execution_count": 29,
   "metadata": {},
   "outputs": [],
   "source": [
    "# count number of missing data per CM: \n",
    "NaN_per_row = df_SDQ.isnull().sum(axis=1)\n",
    "print(len(NaN_per_row),\"participants with at least 1 missing value\")"
   ]
  },
  {
   "cell_type": "markdown",
   "metadata": {},
   "source": [
    "if participants have only one variable missing -> impute from two other variables "
   ]
  },
  {
   "cell_type": "code",
   "execution_count": 30,
   "metadata": {},
   "outputs": [
    {
     "data": {
      "text/plain": [
       "(14947, 25)"
      ]
     },
     "execution_count": 30,
     "metadata": {},
     "output_type": "execute_result"
    }
   ],
   "source": [
    "# df_nonan: remove rows with at least 1 nan \n",
    "df_nonan = df_SDQ.dropna(axis = 0)\n",
    "df_nonan.shape"
   ]
  },
  {
   "cell_type": "code",
   "execution_count": null,
   "metadata": {},
   "outputs": [],
   "source": [
    "## check that no rows have exactly the same observations \n",
    "print(\"are there duplicates? \", df_nonan.iloc[:,1:].duplicated().any())"
   ]
  },
  {
   "cell_type": "code",
   "execution_count": 32,
   "metadata": {},
   "outputs": [],
   "source": [
    "# if any duplicates only keep one measure per child \n",
    "df_nonan_nodup = df_nonan.drop_duplicates(subset=['MCSID'], keep='first', inplace=False)"
   ]
  },
  {
   "cell_type": "code",
   "execution_count": null,
   "metadata": {},
   "outputs": [],
   "source": [
    "df_nonan_nodup.shape"
   ]
  },
  {
   "cell_type": "markdown",
   "metadata": {},
   "source": [
    "## replace strings by numerical data "
   ]
  },
  {
   "cell_type": "code",
   "execution_count": 34,
   "metadata": {},
   "outputs": [
    {
     "data": {
      "text/html": [
       "<div>\n",
       "<style scoped>\n",
       "    .dataframe tbody tr th:only-of-type {\n",
       "        vertical-align: middle;\n",
       "    }\n",
       "\n",
       "    .dataframe tbody tr th {\n",
       "        vertical-align: top;\n",
       "    }\n",
       "\n",
       "    .dataframe thead th {\n",
       "        text-align: right;\n",
       "    }\n",
       "</style>\n",
       "<table border=\"1\" class=\"dataframe\">\n",
       "  <thead>\n",
       "    <tr style=\"text-align: right;\">\n",
       "      <th></th>\n",
       "      <th>MCSID</th>\n",
       "      <th>CPSDPF00</th>\n",
       "      <th>CPSDRO00</th>\n",
       "      <th>CPSDHS00</th>\n",
       "      <th>CPSDSR00</th>\n",
       "      <th>CPSDTT00</th>\n",
       "      <th>CPSDSP00</th>\n",
       "      <th>CPSDOR00</th>\n",
       "      <th>CPSDMW00</th>\n",
       "      <th>CPSDHU00</th>\n",
       "      <th>...</th>\n",
       "      <th>CPSDDC00</th>\n",
       "      <th>CPSDNC00</th>\n",
       "      <th>CPSDKY00</th>\n",
       "      <th>CPSDOA00</th>\n",
       "      <th>CPSDVH00</th>\n",
       "      <th>CPSDST00</th>\n",
       "      <th>CPSDCS00</th>\n",
       "      <th>CPSDGB00</th>\n",
       "      <th>CPSDFE00</th>\n",
       "      <th>CPSDTE00</th>\n",
       "    </tr>\n",
       "  </thead>\n",
       "  <tbody>\n",
       "    <tr>\n",
       "      <th>0</th>\n",
       "      <td>M10001N</td>\n",
       "      <td>2.0</td>\n",
       "      <td>3.0</td>\n",
       "      <td>1.0</td>\n",
       "      <td>1.0</td>\n",
       "      <td>3.0</td>\n",
       "      <td>1.0</td>\n",
       "      <td>1.0</td>\n",
       "      <td>1.0</td>\n",
       "      <td>1.0</td>\n",
       "      <td>...</td>\n",
       "      <td>3.0</td>\n",
       "      <td>2.0</td>\n",
       "      <td>1.0</td>\n",
       "      <td>1.0</td>\n",
       "      <td>1.0</td>\n",
       "      <td>1.0</td>\n",
       "      <td>1.0</td>\n",
       "      <td>1.0</td>\n",
       "      <td>2.0</td>\n",
       "      <td>3.0</td>\n",
       "    </tr>\n",
       "    <tr>\n",
       "      <th>1</th>\n",
       "      <td>M10002P</td>\n",
       "      <td>2.0</td>\n",
       "      <td>1.0</td>\n",
       "      <td>1.0</td>\n",
       "      <td>1.0</td>\n",
       "      <td>2.0</td>\n",
       "      <td>1.0</td>\n",
       "      <td>1.0</td>\n",
       "      <td>1.0</td>\n",
       "      <td>2.0</td>\n",
       "      <td>...</td>\n",
       "      <td>1.0</td>\n",
       "      <td>2.0</td>\n",
       "      <td>2.0</td>\n",
       "      <td>1.0</td>\n",
       "      <td>1.0</td>\n",
       "      <td>2.0</td>\n",
       "      <td>1.0</td>\n",
       "      <td>1.0</td>\n",
       "      <td>2.0</td>\n",
       "      <td>1.0</td>\n",
       "    </tr>\n",
       "    <tr>\n",
       "      <th>3</th>\n",
       "      <td>M10007U</td>\n",
       "      <td>2.0</td>\n",
       "      <td>2.0</td>\n",
       "      <td>1.0</td>\n",
       "      <td>2.0</td>\n",
       "      <td>2.0</td>\n",
       "      <td>1.0</td>\n",
       "      <td>2.0</td>\n",
       "      <td>1.0</td>\n",
       "      <td>2.0</td>\n",
       "      <td>...</td>\n",
       "      <td>2.0</td>\n",
       "      <td>2.0</td>\n",
       "      <td>2.0</td>\n",
       "      <td>1.0</td>\n",
       "      <td>2.0</td>\n",
       "      <td>3.0</td>\n",
       "      <td>1.0</td>\n",
       "      <td>1.0</td>\n",
       "      <td>1.0</td>\n",
       "      <td>2.0</td>\n",
       "    </tr>\n",
       "    <tr>\n",
       "      <th>5</th>\n",
       "      <td>M10011Q</td>\n",
       "      <td>1.0</td>\n",
       "      <td>1.0</td>\n",
       "      <td>1.0</td>\n",
       "      <td>1.0</td>\n",
       "      <td>NaN</td>\n",
       "      <td>1.0</td>\n",
       "      <td>1.0</td>\n",
       "      <td>1.0</td>\n",
       "      <td>1.0</td>\n",
       "      <td>...</td>\n",
       "      <td>1.0</td>\n",
       "      <td>1.0</td>\n",
       "      <td>1.0</td>\n",
       "      <td>1.0</td>\n",
       "      <td>1.0</td>\n",
       "      <td>1.0</td>\n",
       "      <td>1.0</td>\n",
       "      <td>1.0</td>\n",
       "      <td>2.0</td>\n",
       "      <td>1.0</td>\n",
       "    </tr>\n",
       "    <tr>\n",
       "      <th>7</th>\n",
       "      <td>M10015U</td>\n",
       "      <td>1.0</td>\n",
       "      <td>1.0</td>\n",
       "      <td>2.0</td>\n",
       "      <td>1.0</td>\n",
       "      <td>1.0</td>\n",
       "      <td>1.0</td>\n",
       "      <td>1.0</td>\n",
       "      <td>2.0</td>\n",
       "      <td>1.0</td>\n",
       "      <td>...</td>\n",
       "      <td>1.0</td>\n",
       "      <td>1.0</td>\n",
       "      <td>1.0</td>\n",
       "      <td>1.0</td>\n",
       "      <td>1.0</td>\n",
       "      <td>1.0</td>\n",
       "      <td>1.0</td>\n",
       "      <td>1.0</td>\n",
       "      <td>2.0</td>\n",
       "      <td>1.0</td>\n",
       "    </tr>\n",
       "  </tbody>\n",
       "</table>\n",
       "<p>5 rows × 25 columns</p>\n",
       "</div>"
      ],
      "text/plain": [
       "     MCSID  CPSDPF00  CPSDRO00  CPSDHS00  CPSDSR00  CPSDTT00  CPSDSP00  \\\n",
       "0  M10001N       2.0       3.0       1.0       1.0       3.0       1.0   \n",
       "1  M10002P       2.0       1.0       1.0       1.0       2.0       1.0   \n",
       "3  M10007U       2.0       2.0       1.0       2.0       2.0       1.0   \n",
       "5  M10011Q       1.0       1.0       1.0       1.0       NaN       1.0   \n",
       "7  M10015U       1.0       1.0       2.0       1.0       1.0       1.0   \n",
       "\n",
       "   CPSDOR00  CPSDMW00  CPSDHU00  ...  CPSDDC00  CPSDNC00  CPSDKY00  CPSDOA00  \\\n",
       "0       1.0       1.0       1.0  ...       3.0       2.0       1.0       1.0   \n",
       "1       1.0       1.0       2.0  ...       1.0       2.0       2.0       1.0   \n",
       "3       2.0       1.0       2.0  ...       2.0       2.0       2.0       1.0   \n",
       "5       1.0       1.0       1.0  ...       1.0       1.0       1.0       1.0   \n",
       "7       1.0       2.0       1.0  ...       1.0       1.0       1.0       1.0   \n",
       "\n",
       "   CPSDVH00  CPSDST00  CPSDCS00  CPSDGB00  CPSDFE00  CPSDTE00  \n",
       "0       1.0       1.0       1.0       1.0       2.0       3.0  \n",
       "1       1.0       2.0       1.0       1.0       2.0       1.0  \n",
       "3       2.0       3.0       1.0       1.0       1.0       2.0  \n",
       "5       1.0       1.0       1.0       1.0       2.0       1.0  \n",
       "7       1.0       1.0       1.0       1.0       2.0       1.0  \n",
       "\n",
       "[5 rows x 25 columns]"
      ]
     },
     "execution_count": 34,
     "metadata": {},
     "output_type": "execute_result"
    }
   ],
   "source": [
    "mapping = {'Not true' : 1, 'Somewhat true' : 2, 'Certainly true': 3}\n",
    "df_toimpute_nodup = df_toimpute_nodup.replace(mapping)\n",
    "df_toimpute_nodup.head()"
   ]
  },
  {
   "cell_type": "markdown",
   "metadata": {},
   "source": [
    "## add age and gender (and remove observations missing these variables)"
   ]
  },
  {
   "cell_type": "code",
   "execution_count": 81,
   "metadata": {},
   "outputs": [
    {
     "data": {
      "text/html": [
       "<div>\n",
       "<style scoped>\n",
       "    .dataframe tbody tr th:only-of-type {\n",
       "        vertical-align: middle;\n",
       "    }\n",
       "\n",
       "    .dataframe tbody tr th {\n",
       "        vertical-align: top;\n",
       "    }\n",
       "\n",
       "    .dataframe thead th {\n",
       "        text-align: right;\n",
       "    }\n",
       "</style>\n",
       "<table border=\"1\" class=\"dataframe\">\n",
       "  <thead>\n",
       "    <tr style=\"text-align: right;\">\n",
       "      <th></th>\n",
       "      <th>MCSID</th>\n",
       "      <th>CPNUM00</th>\n",
       "      <th>CELIG00</th>\n",
       "      <th>CRESP00</th>\n",
       "      <th>CCNUM00</th>\n",
       "      <th>CHINTM00</th>\n",
       "      <th>CHINTY00</th>\n",
       "      <th>CHCSEX00</th>\n",
       "      <th>CHCDBM00</th>\n",
       "      <th>CHCDBY00</th>\n",
       "      <th>...</th>\n",
       "      <th>CHPDCM00</th>\n",
       "      <th>CHPSPY00</th>\n",
       "      <th>CHPSPM00</th>\n",
       "      <th>CHSAOC00</th>\n",
       "      <th>CHPSOC00</th>\n",
       "      <th>CHNVOC00</th>\n",
       "      <th>CHPCOC00</th>\n",
       "      <th>CHHTOC00</th>\n",
       "      <th>CHWTOC00</th>\n",
       "      <th>CHWSOC00</th>\n",
       "    </tr>\n",
       "  </thead>\n",
       "  <tbody>\n",
       "    <tr>\n",
       "      <th>0</th>\n",
       "      <td>M10001N</td>\n",
       "      <td>1</td>\n",
       "      <td>Main Interview</td>\n",
       "      <td>Main Interview</td>\n",
       "      <td>NaN</td>\n",
       "      <td>6</td>\n",
       "      <td>2006</td>\n",
       "      <td>Not applicable</td>\n",
       "      <td>Not applicable</td>\n",
       "      <td>Not applicable</td>\n",
       "      <td>...</td>\n",
       "      <td>Not applicable</td>\n",
       "      <td>Not Applicable</td>\n",
       "      <td>Not applicable</td>\n",
       "      <td>Not applicable</td>\n",
       "      <td>Not applicable</td>\n",
       "      <td>Not applicable</td>\n",
       "      <td>Not applicable</td>\n",
       "      <td>Not applicable</td>\n",
       "      <td>Not applicable</td>\n",
       "      <td>Not applicable</td>\n",
       "    </tr>\n",
       "    <tr>\n",
       "      <th>1</th>\n",
       "      <td>M10001N</td>\n",
       "      <td>2</td>\n",
       "      <td>Proxy Interview</td>\n",
       "      <td>Proxy Interview</td>\n",
       "      <td>NaN</td>\n",
       "      <td>6</td>\n",
       "      <td>2006</td>\n",
       "      <td>Not applicable</td>\n",
       "      <td>Not applicable</td>\n",
       "      <td>Not applicable</td>\n",
       "      <td>...</td>\n",
       "      <td>Not applicable</td>\n",
       "      <td>Not Applicable</td>\n",
       "      <td>Not applicable</td>\n",
       "      <td>Not applicable</td>\n",
       "      <td>Not applicable</td>\n",
       "      <td>Not applicable</td>\n",
       "      <td>Not applicable</td>\n",
       "      <td>Not applicable</td>\n",
       "      <td>Not applicable</td>\n",
       "      <td>Not applicable</td>\n",
       "    </tr>\n",
       "    <tr>\n",
       "      <th>2</th>\n",
       "      <td>M10001N</td>\n",
       "      <td>3</td>\n",
       "      <td>Not eligible</td>\n",
       "      <td>No Interview</td>\n",
       "      <td>NaN</td>\n",
       "      <td>6</td>\n",
       "      <td>2006</td>\n",
       "      <td>Not applicable</td>\n",
       "      <td>Not applicable</td>\n",
       "      <td>Not applicable</td>\n",
       "      <td>...</td>\n",
       "      <td>Not applicable</td>\n",
       "      <td>Not Applicable</td>\n",
       "      <td>Not applicable</td>\n",
       "      <td>Not applicable</td>\n",
       "      <td>Not applicable</td>\n",
       "      <td>Not applicable</td>\n",
       "      <td>Not applicable</td>\n",
       "      <td>Not applicable</td>\n",
       "      <td>Not applicable</td>\n",
       "      <td>Not applicable</td>\n",
       "    </tr>\n",
       "    <tr>\n",
       "      <th>3</th>\n",
       "      <td>M10001N</td>\n",
       "      <td>4</td>\n",
       "      <td>Not eligible</td>\n",
       "      <td>No Interview</td>\n",
       "      <td>NaN</td>\n",
       "      <td>6</td>\n",
       "      <td>2006</td>\n",
       "      <td>Not applicable</td>\n",
       "      <td>Not applicable</td>\n",
       "      <td>Not applicable</td>\n",
       "      <td>...</td>\n",
       "      <td>Not applicable</td>\n",
       "      <td>Not Applicable</td>\n",
       "      <td>Not applicable</td>\n",
       "      <td>Not applicable</td>\n",
       "      <td>Not applicable</td>\n",
       "      <td>Not applicable</td>\n",
       "      <td>Not applicable</td>\n",
       "      <td>Not applicable</td>\n",
       "      <td>Not applicable</td>\n",
       "      <td>Not applicable</td>\n",
       "    </tr>\n",
       "    <tr>\n",
       "      <th>4</th>\n",
       "      <td>M10001N</td>\n",
       "      <td>5</td>\n",
       "      <td>Not eligible</td>\n",
       "      <td>No Interview</td>\n",
       "      <td>NaN</td>\n",
       "      <td>6</td>\n",
       "      <td>2006</td>\n",
       "      <td>Not applicable</td>\n",
       "      <td>Not applicable</td>\n",
       "      <td>Not applicable</td>\n",
       "      <td>...</td>\n",
       "      <td>Not applicable</td>\n",
       "      <td>Not Applicable</td>\n",
       "      <td>Not applicable</td>\n",
       "      <td>Not applicable</td>\n",
       "      <td>Not applicable</td>\n",
       "      <td>Not applicable</td>\n",
       "      <td>Not applicable</td>\n",
       "      <td>Not applicable</td>\n",
       "      <td>Not applicable</td>\n",
       "      <td>Not applicable</td>\n",
       "    </tr>\n",
       "  </tbody>\n",
       "</table>\n",
       "<p>5 rows × 59 columns</p>\n",
       "</div>"
      ],
      "text/plain": [
       "     MCSID  CPNUM00          CELIG00          CRESP00 CCNUM00  CHINTM00  \\\n",
       "0  M10001N        1   Main Interview   Main Interview     NaN         6   \n",
       "1  M10001N        2  Proxy Interview  Proxy Interview     NaN         6   \n",
       "2  M10001N        3     Not eligible     No Interview     NaN         6   \n",
       "3  M10001N        4     Not eligible     No Interview     NaN         6   \n",
       "4  M10001N        5     Not eligible     No Interview     NaN         6   \n",
       "\n",
       "   CHINTY00        CHCSEX00        CHCDBM00        CHCDBY00  ...  \\\n",
       "0      2006  Not applicable  Not applicable  Not applicable  ...   \n",
       "1      2006  Not applicable  Not applicable  Not applicable  ...   \n",
       "2      2006  Not applicable  Not applicable  Not applicable  ...   \n",
       "3      2006  Not applicable  Not applicable  Not applicable  ...   \n",
       "4      2006  Not applicable  Not applicable  Not applicable  ...   \n",
       "\n",
       "         CHPDCM00        CHPSPY00        CHPSPM00        CHSAOC00  \\\n",
       "0  Not applicable  Not Applicable  Not applicable  Not applicable   \n",
       "1  Not applicable  Not Applicable  Not applicable  Not applicable   \n",
       "2  Not applicable  Not Applicable  Not applicable  Not applicable   \n",
       "3  Not applicable  Not Applicable  Not applicable  Not applicable   \n",
       "4  Not applicable  Not Applicable  Not applicable  Not applicable   \n",
       "\n",
       "         CHPSOC00        CHNVOC00        CHPCOC00        CHHTOC00  \\\n",
       "0  Not applicable  Not applicable  Not applicable  Not applicable   \n",
       "1  Not applicable  Not applicable  Not applicable  Not applicable   \n",
       "2  Not applicable  Not applicable  Not applicable  Not applicable   \n",
       "3  Not applicable  Not applicable  Not applicable  Not applicable   \n",
       "4  Not applicable  Not applicable  Not applicable  Not applicable   \n",
       "\n",
       "         CHWTOC00        CHWSOC00  \n",
       "0  Not applicable  Not applicable  \n",
       "1  Not applicable  Not applicable  \n",
       "2  Not applicable  Not applicable  \n",
       "3  Not applicable  Not applicable  \n",
       "4  Not applicable  Not applicable  \n",
       "\n",
       "[5 rows x 59 columns]"
      ]
     },
     "execution_count": 81,
     "metadata": {},
     "output_type": "execute_result"
    }
   ],
   "source": [
    "df= pd.read_csv('mcs3_hhgrid.csv')\n",
    "df = df[['MCSID','CHCSEX00','CHCAGE00']]\n",
    "df.head()"
   ]
  },
  {
   "cell_type": "code",
   "execution_count": 82,
   "metadata": {},
   "outputs": [
    {
     "data": {
      "text/plain": [
       "Not applicable    56418\n",
       "Male               7878\n",
       "Female             7553\n",
       "Name: CHCSEX00, dtype: int64"
      ]
     },
     "execution_count": 82,
     "metadata": {},
     "output_type": "execute_result"
    }
   ],
   "source": [
    "df['CHCSEX00'].value_counts()"
   ]
  },
  {
   "cell_type": "code",
   "execution_count": null,
   "metadata": {},
   "outputs": [],
   "source": [
    "df['CHCAGE00'].value_counts()"
   ]
  },
  {
   "cell_type": "code",
   "execution_count": 83,
   "metadata": {},
   "outputs": [],
   "source": [
    "df = df.replace(['Not applicable'],np.NaN) "
   ]
  },
  {
   "cell_type": "code",
   "execution_count": 84,
   "metadata": {},
   "outputs": [],
   "source": [
    "df = df.dropna(axis = 0)"
   ]
  },
  {
   "cell_type": "code",
   "execution_count": 90,
   "metadata": {},
   "outputs": [],
   "source": [
    "df_demographics = df.drop_duplicates(subset=['MCSID'], keep='first', inplace=False)\n",
    "df_demographics.shape"
   ]
  },
  {
   "cell_type": "markdown",
   "metadata": {},
   "source": [
    "## merge two dataframes based on MCSID"
   ]
  },
  {
   "cell_type": "code",
   "execution_count": 94,
   "metadata": {},
   "outputs": [],
   "source": [
    "df_final = pd.merge(df_demographics, df_nonan_nodup, on=\"MCSID\", indicator=True, how='right')"
   ]
  },
  {
   "cell_type": "markdown",
   "metadata": {},
   "source": [
    "# identify CM with low and high levels of anxiety based on cut-off scores"
   ]
  },
  {
   "cell_type": "code",
   "execution_count": 4,
   "metadata": {},
   "outputs": [],
   "source": [
    "df_typical = df_final.copy()\n",
    "df_atypical = df_final.copy()"
   ]
  },
  {
   "cell_type": "code",
   "execution_count": 5,
   "metadata": {},
   "outputs": [
    {
     "data": {
      "text/plain": [
       "(8364, 8)"
      ]
     },
     "execution_count": 5,
     "metadata": {},
     "output_type": "execute_result"
    }
   ],
   "source": [
    "df_typical = df_final.loc[(df_final['bully']<2)&(df_final['fear']<2)&(df_final['nervous']<2)]\n",
    "df_typical.shape"
   ]
  },
  {
   "cell_type": "code",
   "execution_count": 7,
   "metadata": {},
   "outputs": [
    {
     "data": {
      "text/plain": [
       "(6205, 8)"
      ]
     },
     "execution_count": 7,
     "metadata": {},
     "output_type": "execute_result"
    }
   ],
   "source": [
    "df_atypical =  df_final.loc[(df_final['worry']>1)&(df_final['fear']>1)&(df_final['nervous']>1)]\n",
    "df_atypical.shape"
   ]
  },
  {
   "cell_type": "code",
   "execution_count": 9,
   "metadata": {},
   "outputs": [
    {
     "data": {
      "text/html": [
       "<div>\n",
       "<style scoped>\n",
       "    .dataframe tbody tr th:only-of-type {\n",
       "        vertical-align: middle;\n",
       "    }\n",
       "\n",
       "    .dataframe tbody tr th {\n",
       "        vertical-align: top;\n",
       "    }\n",
       "\n",
       "    .dataframe thead th {\n",
       "        text-align: right;\n",
       "    }\n",
       "</style>\n",
       "<table border=\"1\" class=\"dataframe\">\n",
       "  <thead>\n",
       "    <tr style=\"text-align: right;\">\n",
       "      <th></th>\n",
       "      <th>MCSID</th>\n",
       "      <th>age</th>\n",
       "      <th>gender</th>\n",
       "      <th>emotion</th>\n",
       "      <th>conduct</th>\n",
       "      <th>hyper</th>\n",
       "      <th>peer</th>\n",
       "      <th>antisocial</th>\n",
       "    </tr>\n",
       "  </thead>\n",
       "  <tbody>\n",
       "    <tr>\n",
       "      <th>0</th>\n",
       "      <td>M10001N</td>\n",
       "      <td>5.218344</td>\n",
       "      <td>Female</td>\n",
       "      <td>3</td>\n",
       "      <td>4</td>\n",
       "      <td>8</td>\n",
       "      <td>0</td>\n",
       "      <td>1</td>\n",
       "    </tr>\n",
       "    <tr>\n",
       "      <th>2</th>\n",
       "      <td>M10007U</td>\n",
       "      <td>5.481177</td>\n",
       "      <td>Male</td>\n",
       "      <td>1</td>\n",
       "      <td>2</td>\n",
       "      <td>5</td>\n",
       "      <td>0</td>\n",
       "      <td>5</td>\n",
       "    </tr>\n",
       "    <tr>\n",
       "      <th>5</th>\n",
       "      <td>M10016V</td>\n",
       "      <td>5.560575</td>\n",
       "      <td>Male</td>\n",
       "      <td>3</td>\n",
       "      <td>4</td>\n",
       "      <td>6</td>\n",
       "      <td>4</td>\n",
       "      <td>3</td>\n",
       "    </tr>\n",
       "    <tr>\n",
       "      <th>6</th>\n",
       "      <td>M10018X</td>\n",
       "      <td>4.898015</td>\n",
       "      <td>Female</td>\n",
       "      <td>1</td>\n",
       "      <td>3</td>\n",
       "      <td>3</td>\n",
       "      <td>0</td>\n",
       "      <td>2</td>\n",
       "    </tr>\n",
       "    <tr>\n",
       "      <th>8</th>\n",
       "      <td>M10021S</td>\n",
       "      <td>5.470226</td>\n",
       "      <td>Female</td>\n",
       "      <td>0</td>\n",
       "      <td>3</td>\n",
       "      <td>1</td>\n",
       "      <td>0</td>\n",
       "      <td>0</td>\n",
       "    </tr>\n",
       "    <tr>\n",
       "      <th>...</th>\n",
       "      <td>...</td>\n",
       "      <td>...</td>\n",
       "      <td>...</td>\n",
       "      <td>...</td>\n",
       "      <td>...</td>\n",
       "      <td>...</td>\n",
       "      <td>...</td>\n",
       "      <td>...</td>\n",
       "    </tr>\n",
       "    <tr>\n",
       "      <th>14556</th>\n",
       "      <td>M35854H</td>\n",
       "      <td>5.078713</td>\n",
       "      <td>Male</td>\n",
       "      <td>1</td>\n",
       "      <td>1</td>\n",
       "      <td>8</td>\n",
       "      <td>2</td>\n",
       "      <td>2</td>\n",
       "    </tr>\n",
       "    <tr>\n",
       "      <th>14561</th>\n",
       "      <td>M35865L</td>\n",
       "      <td>5.177276</td>\n",
       "      <td>Male</td>\n",
       "      <td>1</td>\n",
       "      <td>1</td>\n",
       "      <td>4</td>\n",
       "      <td>5</td>\n",
       "      <td>2</td>\n",
       "    </tr>\n",
       "    <tr>\n",
       "      <th>14564</th>\n",
       "      <td>M35869Q</td>\n",
       "      <td>5.018480</td>\n",
       "      <td>Female</td>\n",
       "      <td>3</td>\n",
       "      <td>3</td>\n",
       "      <td>4</td>\n",
       "      <td>1</td>\n",
       "      <td>4</td>\n",
       "    </tr>\n",
       "    <tr>\n",
       "      <th>14565</th>\n",
       "      <td>M35871J</td>\n",
       "      <td>5.440110</td>\n",
       "      <td>Male</td>\n",
       "      <td>0</td>\n",
       "      <td>4</td>\n",
       "      <td>6</td>\n",
       "      <td>3</td>\n",
       "      <td>5</td>\n",
       "    </tr>\n",
       "    <tr>\n",
       "      <th>14568</th>\n",
       "      <td>M35874M</td>\n",
       "      <td>5.409993</td>\n",
       "      <td>Male</td>\n",
       "      <td>2</td>\n",
       "      <td>3</td>\n",
       "      <td>6</td>\n",
       "      <td>1</td>\n",
       "      <td>1</td>\n",
       "    </tr>\n",
       "  </tbody>\n",
       "</table>\n",
       "<p>6205 rows × 8 columns</p>\n",
       "</div>"
      ],
      "text/plain": [
       "         MCSID       age  gender  emotion  conduct  hyper  peer  antisocial\n",
       "0      M10001N  5.218344  Female        3        4      8     0           1\n",
       "2      M10007U  5.481177    Male        1        2      5     0           5\n",
       "5      M10016V  5.560575    Male        3        4      6     4           3\n",
       "6      M10018X  4.898015  Female        1        3      3     0           2\n",
       "8      M10021S  5.470226  Female        0        3      1     0           0\n",
       "...        ...       ...     ...      ...      ...    ...   ...         ...\n",
       "14556  M35854H  5.078713    Male        1        1      8     2           2\n",
       "14561  M35865L  5.177276    Male        1        1      4     5           2\n",
       "14564  M35869Q  5.018480  Female        3        3      4     1           4\n",
       "14565  M35871J  5.440110    Male        0        4      6     3           5\n",
       "14568  M35874M  5.409993    Male        2        3      6     1           1\n",
       "\n",
       "[6205 rows x 8 columns]"
      ]
     },
     "execution_count": 9,
     "metadata": {},
     "output_type": "execute_result"
    }
   ],
   "source": [
    "df_atypical.describe()"
   ]
  },
  {
   "cell_type": "markdown",
   "metadata": {},
   "source": [
    "# vizualisation atypical: check variance/density items"
   ]
  },
  {
   "cell_type": "code",
   "execution_count": 10,
   "metadata": {},
   "outputs": [],
   "source": [
    "dfSDQ = df_atypical[['emotion', 'conduct', 'hyper', 'peer', 'antisocial']]## to adapt "
   ]
  },
  {
   "cell_type": "code",
   "execution_count": 11,
   "metadata": {},
   "outputs": [
    {
     "data": {
      "text/plain": [
       "<AxesSubplot:ylabel='Density'>"
      ]
     },
     "execution_count": 11,
     "metadata": {},
     "output_type": "execute_result"
    },
    {
     "data": {
      "image/png": "[encoded data removed]",
      "text/plain": [
       "<Figure size 1152x576 with 1 Axes>"
      ]
     },
     "metadata": {},
     "output_type": "display_data"
    }
   ],
   "source": [
    "dfSDQ.plot(kind='density', figsize=[16,8])"
   ]
  },
  {
   "cell_type": "code",
   "execution_count": 59,
   "metadata": {},
   "outputs": [
    {
     "data": {
      "image/png": "[encoded data removed]",
      "text/plain": [
       "<Figure size 1152x576 with 1 Axes>"
      ]
     },
     "metadata": {},
     "output_type": "display_data"
    }
   ],
   "source": [
    "dfSDQ.plot(kind='hist', figsize=[16,8])\n"
   ]
  },
  {
   "cell_type": "code",
   "execution_count": 60,
   "metadata": {},
   "outputs": [
    {
     "data": {
      "image/png": "[encoded data removed]",
      "text/plain": [
       "<Figure size 1152x576 with 1 Axes>"
      ]
     },
     "metadata": {},
     "output_type": "display_data"
    }
   ],
   "source": [
    "dfSDQ.plot(kind='box', figsize=[16,8])\n",
    "plt.savefig('box_DV_MCS3.png')"
   ]
  },
  {
   "cell_type": "code",
   "execution_count": null,
   "metadata": {},
   "outputs": [],
   "source": [
    "ax = sns.boxplot(data=dfSDQ, orient=\"h\", palette=\"Set2\")"
   ]
  },
  {
   "cell_type": "markdown",
   "metadata": {},
   "source": [
    "## examine differences between sweeps"
   ]
  },
  {
   "cell_type": "markdown",
   "metadata": {},
   "source": [
    "### number of anxious CM per sweep"
   ]
  },
  {
   "cell_type": "markdown",
   "metadata": {},
   "source": [
    "# extract other SDQ items and prepare for factor analysis "
   ]
  },
  {
   "cell_type": "code",
   "execution_count": 2,
   "metadata": {},
   "outputs": [],
   "source": [
    "# load data \n",
    "df_SDQ = pd.read_csv('mcs3_parent.csv',encoding='mac_roman')\n",
    "df_SDQ.shape"
   ]
  },
  {
   "cell_type": "code",
   "execution_count": null,
   "metadata": {},
   "outputs": [],
   "source": [
    "# extract variables of interest \n",
    "df_SDQ = df_SDQ[['MCSID','column1','column2' etc ]]\n",
    "# rename columns \n",
    "df_SDQ.columns = ['MCSID', 'worry','fear','nervous', etc]\n",
    "df_SDQ.head()"
   ]
  },
  {
   "cell_type": "code",
   "execution_count": null,
   "metadata": {},
   "outputs": [],
   "source": [
    "# only keep 1st cohort member and main interview\n",
    "df_SDQ = df_SDQ.loc[df_SDQ['BCNUM00'] ==1]# only main interview\n",
    "df_SDQ = df_SDQ.loc[df_SDQ['ACNUM00'] =='1st Cohort Member of the family'] # only CM"
   ]
  },
  {
   "cell_type": "code",
   "execution_count": null,
   "metadata": {},
   "outputs": [],
   "source": [
    "# explore values per variable: \n",
    "df_SDQ['worry'].value_counts()"
   ]
  },
  {
   "cell_type": "code",
   "execution_count": 27,
   "metadata": {},
   "outputs": [],
   "source": [
    "# replace invalid values by NaN: \n",
    "df_SDQ = df_SDQ.replace(['Not applicable'],np.NaN) \n",
    "df_SDQ = df_SDQ.replace(['Can t say'],np.NaN)\n",
    "df_SDQ = df_SDQ.replace([\"Don't Know\"],np.NaN)"
   ]
  },
  {
   "cell_type": "code",
   "execution_count": null,
   "metadata": {},
   "outputs": [],
   "source": [
    "df = df_SDQ.copy()"
   ]
  },
  {
   "cell_type": "code",
   "execution_count": null,
   "metadata": {},
   "outputs": [],
   "source": [
    "# align directions for 'prosocial' variables: +1 for difficulties\n",
    "cols = ['CPSDPF00', 'CPSDSR00', 'CPSDOR00', 'CPSDHU00',  'CPSDGF00'] ## to adapt \n",
    "df[cols] = df[cols].replace(['Not true','Certainly true'],['Certainly true','Not true'])"
   ]
  },
  {
   "cell_type": "code",
   "execution_count": 11,
   "metadata": {},
   "outputs": [
    {
     "data": {
      "text/plain": [
       "(14947, 25)"
      ]
     },
     "execution_count": 11,
     "metadata": {},
     "output_type": "execute_result"
    }
   ],
   "source": [
    "#keep rows with at least 85% non missing values\n",
    "# X_nonan: remove rows with at least 1 nan \n",
    "df_nonan = df.dropna(axis = 0)\n",
    "df_toimpute = df.dropna(axis = 0, thresh=3)# 15% of 22 = 3\n",
    "df_toimpute.shape"
   ]
  },
  {
   "cell_type": "code",
   "execution_count": 47,
   "metadata": {},
   "outputs": [
    {
     "data": {
      "text/plain": [
       "(11274, 40)"
      ]
     },
     "execution_count": 47,
     "metadata": {},
     "output_type": "execute_result"
    }
   ],
   "source": [
    "df_nonan.shape"
   ]
  },
  {
   "cell_type": "code",
   "execution_count": 48,
   "metadata": {},
   "outputs": [],
   "source": [
    "# only keep one measure per child \n",
    "df_toimpute_nodup = df_toimpute.drop_duplicates(subset=['MCSID'], keep='first', inplace=False)"
   ]
  },
  {
   "cell_type": "code",
   "execution_count": 49,
   "metadata": {},
   "outputs": [
    {
     "data": {
      "text/plain": [
       "(14765, 40)"
      ]
     },
     "execution_count": 49,
     "metadata": {},
     "output_type": "execute_result"
    }
   ],
   "source": [
    "df_toimpute_nodup.shape"
   ]
  },
  {
   "cell_type": "code",
   "execution_count": 50,
   "metadata": {},
   "outputs": [
    {
     "data": {
      "text/html": [
       "<div>\n",
       "<style scoped>\n",
       "    .dataframe tbody tr th:only-of-type {\n",
       "        vertical-align: middle;\n",
       "    }\n",
       "\n",
       "    .dataframe tbody tr th {\n",
       "        vertical-align: top;\n",
       "    }\n",
       "\n",
       "    .dataframe thead th {\n",
       "        text-align: right;\n",
       "    }\n",
       "</style>\n",
       "<table border=\"1\" class=\"dataframe\">\n",
       "  <thead>\n",
       "    <tr style=\"text-align: right;\">\n",
       "      <th></th>\n",
       "      <th>MCSID</th>\n",
       "      <th>CPSECE00</th>\n",
       "      <th>CPSEWS00</th>\n",
       "      <th>CPSEMS00</th>\n",
       "      <th>CPSEWP00</th>\n",
       "      <th>CPSEHT00</th>\n",
       "      <th>CPSEOE00</th>\n",
       "      <th>CPSEPT00</th>\n",
       "      <th>CPSEAO00</th>\n",
       "      <th>CPSEEF00</th>\n",
       "      <th>...</th>\n",
       "      <th>CPSDDC00</th>\n",
       "      <th>CPSDNC00</th>\n",
       "      <th>CPSDKY00</th>\n",
       "      <th>CPSDOA00</th>\n",
       "      <th>CPSDVH00</th>\n",
       "      <th>CPSDST00</th>\n",
       "      <th>CPSDCS00</th>\n",
       "      <th>CPSDGB00</th>\n",
       "      <th>CPSDFE00</th>\n",
       "      <th>CPSDTE00</th>\n",
       "    </tr>\n",
       "  </thead>\n",
       "  <tbody>\n",
       "    <tr>\n",
       "      <th>0</th>\n",
       "      <td>M10001N</td>\n",
       "      <td>1.0</td>\n",
       "      <td>1.0</td>\n",
       "      <td>3.0</td>\n",
       "      <td>1.0</td>\n",
       "      <td>3.0</td>\n",
       "      <td>2.0</td>\n",
       "      <td>1.0</td>\n",
       "      <td>2.0</td>\n",
       "      <td>1.0</td>\n",
       "      <td>...</td>\n",
       "      <td>3.0</td>\n",
       "      <td>2.0</td>\n",
       "      <td>1.0</td>\n",
       "      <td>1.0</td>\n",
       "      <td>1.0</td>\n",
       "      <td>1.0</td>\n",
       "      <td>1.0</td>\n",
       "      <td>1.0</td>\n",
       "      <td>2.0</td>\n",
       "      <td>3.0</td>\n",
       "    </tr>\n",
       "    <tr>\n",
       "      <th>1</th>\n",
       "      <td>M10002P</td>\n",
       "      <td>2.0</td>\n",
       "      <td>2.0</td>\n",
       "      <td>1.0</td>\n",
       "      <td>1.0</td>\n",
       "      <td>1.0</td>\n",
       "      <td>1.0</td>\n",
       "      <td>2.0</td>\n",
       "      <td>1.0</td>\n",
       "      <td>1.0</td>\n",
       "      <td>...</td>\n",
       "      <td>1.0</td>\n",
       "      <td>2.0</td>\n",
       "      <td>2.0</td>\n",
       "      <td>1.0</td>\n",
       "      <td>1.0</td>\n",
       "      <td>2.0</td>\n",
       "      <td>1.0</td>\n",
       "      <td>1.0</td>\n",
       "      <td>2.0</td>\n",
       "      <td>1.0</td>\n",
       "    </tr>\n",
       "    <tr>\n",
       "      <th>3</th>\n",
       "      <td>M10007U</td>\n",
       "      <td>3.0</td>\n",
       "      <td>2.0</td>\n",
       "      <td>1.0</td>\n",
       "      <td>1.0</td>\n",
       "      <td>2.0</td>\n",
       "      <td>2.0</td>\n",
       "      <td>1.0</td>\n",
       "      <td>1.0</td>\n",
       "      <td>2.0</td>\n",
       "      <td>...</td>\n",
       "      <td>2.0</td>\n",
       "      <td>2.0</td>\n",
       "      <td>2.0</td>\n",
       "      <td>1.0</td>\n",
       "      <td>2.0</td>\n",
       "      <td>3.0</td>\n",
       "      <td>1.0</td>\n",
       "      <td>1.0</td>\n",
       "      <td>1.0</td>\n",
       "      <td>2.0</td>\n",
       "    </tr>\n",
       "    <tr>\n",
       "      <th>5</th>\n",
       "      <td>M10011Q</td>\n",
       "      <td>2.0</td>\n",
       "      <td>1.0</td>\n",
       "      <td>1.0</td>\n",
       "      <td>1.0</td>\n",
       "      <td>1.0</td>\n",
       "      <td>1.0</td>\n",
       "      <td>3.0</td>\n",
       "      <td>1.0</td>\n",
       "      <td>2.0</td>\n",
       "      <td>...</td>\n",
       "      <td>1.0</td>\n",
       "      <td>1.0</td>\n",
       "      <td>1.0</td>\n",
       "      <td>1.0</td>\n",
       "      <td>1.0</td>\n",
       "      <td>1.0</td>\n",
       "      <td>1.0</td>\n",
       "      <td>1.0</td>\n",
       "      <td>2.0</td>\n",
       "      <td>1.0</td>\n",
       "    </tr>\n",
       "    <tr>\n",
       "      <th>7</th>\n",
       "      <td>M10015U</td>\n",
       "      <td>2.0</td>\n",
       "      <td>2.0</td>\n",
       "      <td>1.0</td>\n",
       "      <td>1.0</td>\n",
       "      <td>1.0</td>\n",
       "      <td>2.0</td>\n",
       "      <td>1.0</td>\n",
       "      <td>2.0</td>\n",
       "      <td>3.0</td>\n",
       "      <td>...</td>\n",
       "      <td>1.0</td>\n",
       "      <td>1.0</td>\n",
       "      <td>1.0</td>\n",
       "      <td>1.0</td>\n",
       "      <td>1.0</td>\n",
       "      <td>1.0</td>\n",
       "      <td>1.0</td>\n",
       "      <td>1.0</td>\n",
       "      <td>2.0</td>\n",
       "      <td>1.0</td>\n",
       "    </tr>\n",
       "  </tbody>\n",
       "</table>\n",
       "<p>5 rows × 40 columns</p>\n",
       "</div>"
      ],
      "text/plain": [
       "     MCSID  CPSECE00  CPSEWS00  CPSEMS00  CPSEWP00  CPSEHT00  CPSEOE00  \\\n",
       "0  M10001N       1.0       1.0       3.0       1.0       3.0       2.0   \n",
       "1  M10002P       2.0       2.0       1.0       1.0       1.0       1.0   \n",
       "3  M10007U       3.0       2.0       1.0       1.0       2.0       2.0   \n",
       "5  M10011Q       2.0       1.0       1.0       1.0       1.0       1.0   \n",
       "7  M10015U       2.0       2.0       1.0       1.0       1.0       2.0   \n",
       "\n",
       "   CPSEPT00  CPSEAO00  CPSEEF00  ...  CPSDDC00  CPSDNC00  CPSDKY00  CPSDOA00  \\\n",
       "0       1.0       2.0       1.0  ...       3.0       2.0       1.0       1.0   \n",
       "1       2.0       1.0       1.0  ...       1.0       2.0       2.0       1.0   \n",
       "3       1.0       1.0       2.0  ...       2.0       2.0       2.0       1.0   \n",
       "5       3.0       1.0       2.0  ...       1.0       1.0       1.0       1.0   \n",
       "7       1.0       2.0       3.0  ...       1.0       1.0       1.0       1.0   \n",
       "\n",
       "   CPSDVH00  CPSDST00  CPSDCS00  CPSDGB00  CPSDFE00  CPSDTE00  \n",
       "0       1.0       1.0       1.0       1.0       2.0       3.0  \n",
       "1       1.0       2.0       1.0       1.0       2.0       1.0  \n",
       "3       2.0       3.0       1.0       1.0       1.0       2.0  \n",
       "5       1.0       1.0       1.0       1.0       2.0       1.0  \n",
       "7       1.0       1.0       1.0       1.0       2.0       1.0  \n",
       "\n",
       "[5 rows x 40 columns]"
      ]
     },
     "execution_count": 50,
     "metadata": {},
     "output_type": "execute_result"
    }
   ],
   "source": [
    "#replace by 1 2 3 \n",
    "# label encoding: only by column...\n",
    "# use find and replace \n",
    "mapping = {'Not true' : 1, 'Somewhat true' : 2, 'Certainly true': 3}\n",
    "df_parent_toimpute_nodup = df_parent_toimpute_nodup.replace(mapping)\n",
    "df_parent_toimpute_nodup.head()"
   ]
  },
  {
   "cell_type": "markdown",
   "metadata": {},
   "source": [
    "## impute data if only 3 variables missing out of 22 (~15%) "
   ]
  },
  {
   "cell_type": "code",
   "execution_count": 35,
   "metadata": {},
   "outputs": [],
   "source": [
    "#impute missing values: \n",
    "from sklearn.experimental import enable_iterative_imputer  # noqa\n",
    "from sklearn.impute import SimpleImputer, KNNImputer, IterativeImputer\n",
    "# IterativeImputer uses round-robin linear regression, modeling each feature with missing values as a function of other features, in turn\n",
    "# It mimics the behavior of missForest, a popular imputation package for R.\n",
    "imputer = KNNImputer(missing_values=np.nan,tol=0.0001,max_iter = 100)\n",
    "X_imp = df_toimpute_nodup.copy()\n",
    "X_imp = X_imp.drop(['MCSID'], axis=1)\n",
    "X_imp = imputer.fit_transform(X_imp)"
   ]
  },
  {
   "cell_type": "code",
   "execution_count": 36,
   "metadata": {},
   "outputs": [
    {
     "data": {
      "text/plain": [
       "array([[2., 3., 1., ..., 1., 2., 3.],\n",
       "       [2., 1., 1., ..., 1., 2., 1.],\n",
       "       [2., 2., 1., ..., 1., 1., 2.],\n",
       "       ...,\n",
       "       [1., 1., 1., ..., 1., 1., 1.],\n",
       "       [2., 2., 1., ..., 2., 1., 1.],\n",
       "       [1., 2., 1., ..., 2., 2., 2.]])"
      ]
     },
     "execution_count": 36,
     "metadata": {},
     "output_type": "execute_result"
    }
   ],
   "source": [
    "X_imp"
   ]
  },
  {
   "cell_type": "code",
   "execution_count": 37,
   "metadata": {},
   "outputs": [],
   "source": [
    "# round imputed values to nearest integer\n",
    "X_imp = np.rint(X_imp)"
   ]
  },
  {
   "cell_type": "code",
   "execution_count": 38,
   "metadata": {},
   "outputs": [
    {
     "data": {
      "text/html": [
       "<div>\n",
       "<style scoped>\n",
       "    .dataframe tbody tr th:only-of-type {\n",
       "        vertical-align: middle;\n",
       "    }\n",
       "\n",
       "    .dataframe tbody tr th {\n",
       "        vertical-align: top;\n",
       "    }\n",
       "\n",
       "    .dataframe thead th {\n",
       "        text-align: right;\n",
       "    }\n",
       "</style>\n",
       "<table border=\"1\" class=\"dataframe\">\n",
       "  <thead>\n",
       "    <tr style=\"text-align: right;\">\n",
       "      <th></th>\n",
       "      <th>0</th>\n",
       "      <th>1</th>\n",
       "      <th>2</th>\n",
       "      <th>3</th>\n",
       "      <th>4</th>\n",
       "      <th>5</th>\n",
       "      <th>6</th>\n",
       "      <th>7</th>\n",
       "      <th>8</th>\n",
       "      <th>9</th>\n",
       "      <th>...</th>\n",
       "      <th>15</th>\n",
       "      <th>16</th>\n",
       "      <th>17</th>\n",
       "      <th>18</th>\n",
       "      <th>19</th>\n",
       "      <th>20</th>\n",
       "      <th>21</th>\n",
       "      <th>22</th>\n",
       "      <th>23</th>\n",
       "      <th>MCSID</th>\n",
       "    </tr>\n",
       "  </thead>\n",
       "  <tbody>\n",
       "    <tr>\n",
       "      <th>0</th>\n",
       "      <td>2.0</td>\n",
       "      <td>3.0</td>\n",
       "      <td>1.0</td>\n",
       "      <td>1.0</td>\n",
       "      <td>3.0</td>\n",
       "      <td>1.0</td>\n",
       "      <td>1.0</td>\n",
       "      <td>1.0</td>\n",
       "      <td>1.0</td>\n",
       "      <td>3.0</td>\n",
       "      <td>...</td>\n",
       "      <td>2.0</td>\n",
       "      <td>1.0</td>\n",
       "      <td>1.0</td>\n",
       "      <td>1.0</td>\n",
       "      <td>1.0</td>\n",
       "      <td>1.0</td>\n",
       "      <td>1.0</td>\n",
       "      <td>2.0</td>\n",
       "      <td>3.0</td>\n",
       "      <td>M10001N</td>\n",
       "    </tr>\n",
       "    <tr>\n",
       "      <th>1</th>\n",
       "      <td>2.0</td>\n",
       "      <td>1.0</td>\n",
       "      <td>1.0</td>\n",
       "      <td>1.0</td>\n",
       "      <td>2.0</td>\n",
       "      <td>1.0</td>\n",
       "      <td>1.0</td>\n",
       "      <td>1.0</td>\n",
       "      <td>2.0</td>\n",
       "      <td>1.0</td>\n",
       "      <td>...</td>\n",
       "      <td>2.0</td>\n",
       "      <td>2.0</td>\n",
       "      <td>1.0</td>\n",
       "      <td>1.0</td>\n",
       "      <td>2.0</td>\n",
       "      <td>1.0</td>\n",
       "      <td>1.0</td>\n",
       "      <td>2.0</td>\n",
       "      <td>1.0</td>\n",
       "      <td>M10002P</td>\n",
       "    </tr>\n",
       "    <tr>\n",
       "      <th>3</th>\n",
       "      <td>2.0</td>\n",
       "      <td>2.0</td>\n",
       "      <td>1.0</td>\n",
       "      <td>2.0</td>\n",
       "      <td>2.0</td>\n",
       "      <td>1.0</td>\n",
       "      <td>2.0</td>\n",
       "      <td>1.0</td>\n",
       "      <td>2.0</td>\n",
       "      <td>1.0</td>\n",
       "      <td>...</td>\n",
       "      <td>2.0</td>\n",
       "      <td>2.0</td>\n",
       "      <td>1.0</td>\n",
       "      <td>2.0</td>\n",
       "      <td>3.0</td>\n",
       "      <td>1.0</td>\n",
       "      <td>1.0</td>\n",
       "      <td>1.0</td>\n",
       "      <td>2.0</td>\n",
       "      <td>M10007U</td>\n",
       "    </tr>\n",
       "    <tr>\n",
       "      <th>5</th>\n",
       "      <td>1.0</td>\n",
       "      <td>1.0</td>\n",
       "      <td>1.0</td>\n",
       "      <td>1.0</td>\n",
       "      <td>1.0</td>\n",
       "      <td>1.0</td>\n",
       "      <td>1.0</td>\n",
       "      <td>1.0</td>\n",
       "      <td>1.0</td>\n",
       "      <td>1.0</td>\n",
       "      <td>...</td>\n",
       "      <td>1.0</td>\n",
       "      <td>1.0</td>\n",
       "      <td>1.0</td>\n",
       "      <td>1.0</td>\n",
       "      <td>1.0</td>\n",
       "      <td>1.0</td>\n",
       "      <td>1.0</td>\n",
       "      <td>2.0</td>\n",
       "      <td>1.0</td>\n",
       "      <td>M10011Q</td>\n",
       "    </tr>\n",
       "    <tr>\n",
       "      <th>7</th>\n",
       "      <td>1.0</td>\n",
       "      <td>1.0</td>\n",
       "      <td>2.0</td>\n",
       "      <td>1.0</td>\n",
       "      <td>1.0</td>\n",
       "      <td>1.0</td>\n",
       "      <td>1.0</td>\n",
       "      <td>2.0</td>\n",
       "      <td>1.0</td>\n",
       "      <td>1.0</td>\n",
       "      <td>...</td>\n",
       "      <td>1.0</td>\n",
       "      <td>1.0</td>\n",
       "      <td>1.0</td>\n",
       "      <td>1.0</td>\n",
       "      <td>1.0</td>\n",
       "      <td>1.0</td>\n",
       "      <td>1.0</td>\n",
       "      <td>2.0</td>\n",
       "      <td>1.0</td>\n",
       "      <td>M10015U</td>\n",
       "    </tr>\n",
       "    <tr>\n",
       "      <th>...</th>\n",
       "      <td>...</td>\n",
       "      <td>...</td>\n",
       "      <td>...</td>\n",
       "      <td>...</td>\n",
       "      <td>...</td>\n",
       "      <td>...</td>\n",
       "      <td>...</td>\n",
       "      <td>...</td>\n",
       "      <td>...</td>\n",
       "      <td>...</td>\n",
       "      <td>...</td>\n",
       "      <td>...</td>\n",
       "      <td>...</td>\n",
       "      <td>...</td>\n",
       "      <td>...</td>\n",
       "      <td>...</td>\n",
       "      <td>...</td>\n",
       "      <td>...</td>\n",
       "      <td>...</td>\n",
       "      <td>...</td>\n",
       "      <td>...</td>\n",
       "    </tr>\n",
       "    <tr>\n",
       "      <th>25999</th>\n",
       "      <td>2.0</td>\n",
       "      <td>2.0</td>\n",
       "      <td>1.0</td>\n",
       "      <td>2.0</td>\n",
       "      <td>3.0</td>\n",
       "      <td>1.0</td>\n",
       "      <td>2.0</td>\n",
       "      <td>1.0</td>\n",
       "      <td>2.0</td>\n",
       "      <td>1.0</td>\n",
       "      <td>...</td>\n",
       "      <td>3.0</td>\n",
       "      <td>1.0</td>\n",
       "      <td>1.0</td>\n",
       "      <td>2.0</td>\n",
       "      <td>2.0</td>\n",
       "      <td>1.0</td>\n",
       "      <td>1.0</td>\n",
       "      <td>2.0</td>\n",
       "      <td>2.0</td>\n",
       "      <td>M35869Q</td>\n",
       "    </tr>\n",
       "    <tr>\n",
       "      <th>26000</th>\n",
       "      <td>2.0</td>\n",
       "      <td>3.0</td>\n",
       "      <td>1.0</td>\n",
       "      <td>2.0</td>\n",
       "      <td>2.0</td>\n",
       "      <td>2.0</td>\n",
       "      <td>2.0</td>\n",
       "      <td>1.0</td>\n",
       "      <td>2.0</td>\n",
       "      <td>2.0</td>\n",
       "      <td>...</td>\n",
       "      <td>1.0</td>\n",
       "      <td>2.0</td>\n",
       "      <td>2.0</td>\n",
       "      <td>2.0</td>\n",
       "      <td>3.0</td>\n",
       "      <td>2.0</td>\n",
       "      <td>1.0</td>\n",
       "      <td>1.0</td>\n",
       "      <td>2.0</td>\n",
       "      <td>M35871J</td>\n",
       "    </tr>\n",
       "    <tr>\n",
       "      <th>26001</th>\n",
       "      <td>1.0</td>\n",
       "      <td>1.0</td>\n",
       "      <td>1.0</td>\n",
       "      <td>1.0</td>\n",
       "      <td>1.0</td>\n",
       "      <td>2.0</td>\n",
       "      <td>2.0</td>\n",
       "      <td>1.0</td>\n",
       "      <td>1.0</td>\n",
       "      <td>1.0</td>\n",
       "      <td>...</td>\n",
       "      <td>1.0</td>\n",
       "      <td>1.0</td>\n",
       "      <td>1.0</td>\n",
       "      <td>1.0</td>\n",
       "      <td>2.0</td>\n",
       "      <td>1.0</td>\n",
       "      <td>1.0</td>\n",
       "      <td>1.0</td>\n",
       "      <td>1.0</td>\n",
       "      <td>M35872K</td>\n",
       "    </tr>\n",
       "    <tr>\n",
       "      <th>26003</th>\n",
       "      <td>2.0</td>\n",
       "      <td>2.0</td>\n",
       "      <td>1.0</td>\n",
       "      <td>1.0</td>\n",
       "      <td>1.0</td>\n",
       "      <td>2.0</td>\n",
       "      <td>2.0</td>\n",
       "      <td>1.0</td>\n",
       "      <td>1.0</td>\n",
       "      <td>1.0</td>\n",
       "      <td>...</td>\n",
       "      <td>2.0</td>\n",
       "      <td>1.0</td>\n",
       "      <td>1.0</td>\n",
       "      <td>2.0</td>\n",
       "      <td>2.0</td>\n",
       "      <td>1.0</td>\n",
       "      <td>2.0</td>\n",
       "      <td>1.0</td>\n",
       "      <td>1.0</td>\n",
       "      <td>M35873L</td>\n",
       "    </tr>\n",
       "    <tr>\n",
       "      <th>26004</th>\n",
       "      <td>1.0</td>\n",
       "      <td>2.0</td>\n",
       "      <td>1.0</td>\n",
       "      <td>1.0</td>\n",
       "      <td>3.0</td>\n",
       "      <td>1.0</td>\n",
       "      <td>1.0</td>\n",
       "      <td>1.0</td>\n",
       "      <td>2.0</td>\n",
       "      <td>3.0</td>\n",
       "      <td>...</td>\n",
       "      <td>2.0</td>\n",
       "      <td>1.0</td>\n",
       "      <td>2.0</td>\n",
       "      <td>1.0</td>\n",
       "      <td>2.0</td>\n",
       "      <td>1.0</td>\n",
       "      <td>2.0</td>\n",
       "      <td>2.0</td>\n",
       "      <td>2.0</td>\n",
       "      <td>M35874M</td>\n",
       "    </tr>\n",
       "  </tbody>\n",
       "</table>\n",
       "<p>14761 rows × 25 columns</p>\n",
       "</div>"
      ],
      "text/plain": [
       "         0    1    2    3    4    5    6    7    8    9  ...   15   16   17  \\\n",
       "0      2.0  3.0  1.0  1.0  3.0  1.0  1.0  1.0  1.0  3.0  ...  2.0  1.0  1.0   \n",
       "1      2.0  1.0  1.0  1.0  2.0  1.0  1.0  1.0  2.0  1.0  ...  2.0  2.0  1.0   \n",
       "3      2.0  2.0  1.0  2.0  2.0  1.0  2.0  1.0  2.0  1.0  ...  2.0  2.0  1.0   \n",
       "5      1.0  1.0  1.0  1.0  1.0  1.0  1.0  1.0  1.0  1.0  ...  1.0  1.0  1.0   \n",
       "7      1.0  1.0  2.0  1.0  1.0  1.0  1.0  2.0  1.0  1.0  ...  1.0  1.0  1.0   \n",
       "...    ...  ...  ...  ...  ...  ...  ...  ...  ...  ...  ...  ...  ...  ...   \n",
       "25999  2.0  2.0  1.0  2.0  3.0  1.0  2.0  1.0  2.0  1.0  ...  3.0  1.0  1.0   \n",
       "26000  2.0  3.0  1.0  2.0  2.0  2.0  2.0  1.0  2.0  2.0  ...  1.0  2.0  2.0   \n",
       "26001  1.0  1.0  1.0  1.0  1.0  2.0  2.0  1.0  1.0  1.0  ...  1.0  1.0  1.0   \n",
       "26003  2.0  2.0  1.0  1.0  1.0  2.0  2.0  1.0  1.0  1.0  ...  2.0  1.0  1.0   \n",
       "26004  1.0  2.0  1.0  1.0  3.0  1.0  1.0  1.0  2.0  3.0  ...  2.0  1.0  2.0   \n",
       "\n",
       "        18   19   20   21   22   23    MCSID  \n",
       "0      1.0  1.0  1.0  1.0  2.0  3.0  M10001N  \n",
       "1      1.0  2.0  1.0  1.0  2.0  1.0  M10002P  \n",
       "3      2.0  3.0  1.0  1.0  1.0  2.0  M10007U  \n",
       "5      1.0  1.0  1.0  1.0  2.0  1.0  M10011Q  \n",
       "7      1.0  1.0  1.0  1.0  2.0  1.0  M10015U  \n",
       "...    ...  ...  ...  ...  ...  ...      ...  \n",
       "25999  2.0  2.0  1.0  1.0  2.0  2.0  M35869Q  \n",
       "26000  2.0  3.0  2.0  1.0  1.0  2.0  M35871J  \n",
       "26001  1.0  2.0  1.0  1.0  1.0  1.0  M35872K  \n",
       "26003  2.0  2.0  1.0  2.0  1.0  1.0  M35873L  \n",
       "26004  1.0  2.0  1.0  2.0  2.0  2.0  M35874M  \n",
       "\n",
       "[14761 rows x 25 columns]"
      ]
     },
     "execution_count": 38,
     "metadata": {},
     "output_type": "execute_result"
    }
   ],
   "source": [
    "# convert into a dataframe \n",
    "X_imp=pd.DataFrame(X_imp, index=df_toimpute_nodup.index)\n",
    "X_imp['MCSID']=df_toimpute_nodup['MCSID']\n",
    "X_imp"
   ]
  },
  {
   "cell_type": "markdown",
   "metadata": {},
   "source": [
    "## merge with demograhics based on MCSID"
   ]
  },
  {
   "cell_type": "code",
   "execution_count": 94,
   "metadata": {},
   "outputs": [],
   "source": [
    "df_beh= pd.merge(df_demographics, X_imp, on=\"MCSID\", indicator=True, how='right')"
   ]
  },
  {
   "cell_type": "markdown",
   "metadata": {},
   "source": [
    "## save as csv file to use for factor analysis in R"
   ]
  },
  {
   "cell_type": "code",
   "execution_count": null,
   "metadata": {},
   "outputs": [],
   "source": [
    "pd.DataFrame(df_beh).to_csv(\"MCS3_beh_factorAnalysis.csv\", header=None, index = None )"
   ]
  }
 ],
 "metadata": {
  "kernelspec": {
   "display_name": "Python 3",
   "language": "python",
   "name": "python3"
  },
  "language_info": {
   "codemirror_mode": {
    "name": "ipython",
    "version": 3
   },
   "file_extension": ".py",
   "mimetype": "text/x-python",
   "name": "python",
   "nbconvert_exporter": "python",
   "pygments_lexer": "ipython3",
   "version": "3.8.5"
  }
 },
 "nbformat": 4,
 "nbformat_minor": 4
}
